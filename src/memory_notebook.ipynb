{
 "cells": [
  {
   "cell_type": "code",
   "execution_count": 21,
   "metadata": {},
   "outputs": [],
   "source": [
    "import pandas as pd\n",
    "import matplotlib.pyplot as plt\n",
    "import matplotlib.dates as mdates\n",
    "import numpy as np\n",
    "import seaborn as sns\n",
    "import os\n",
    "\n",
    "data = pd.read_csv('data/inputs/fredmd_transf.csv')\n",
    "\n",
    "plt.style.use(\"ggplot\")\n",
    "\n",
    "outputs_path = os.path.join(os.path.dirname(os.getcwd()), \"src\", \"data\", \"outputs\")"
   ]
  },
  {
   "cell_type": "code",
   "execution_count": 2,
   "metadata": {},
   "outputs": [
    {
     "name": "stderr",
     "output_type": "stream",
     "text": [
      "Building memory using window: 295: 100%|██████████| 296/296 [00:36<00:00,  8.15it/s]\n"
     ]
    }
   ],
   "source": [
    "from learning.memory import run_memory, compute_transition_matrix\n",
    "\n",
    "# fix dates\n",
    "data[\"date\"] = pd.to_datetime(data[\"date\"])\n",
    "data = data.set_index(\"date\")\n",
    "\n",
    "# compute moving average\n",
    "data = data.rolling(window=12).mean()\n",
    "\n",
    "# drop missing values\n",
    "data = data.dropna()\n",
    "\n",
    "memory = run_memory(data=data,\n",
    "                    fix_start=True,\n",
    "                    estimation_window=12 * 4,\n",
    "                    k_opt_method=None,\n",
    "                    clustering_method=\"kmeans\")"
   ]
  },
  {
   "cell_type": "markdown",
   "metadata": {},
   "source": [
    "## 1) Regime changes for a given day"
   ]
  },
  {
   "cell_type": "code",
   "execution_count": 3,
   "metadata": {},
   "outputs": [
    {
     "data": {
      "text/html": [
       "<div>\n",
       "<style scoped>\n",
       "    .dataframe tbody tr th:only-of-type {\n",
       "        vertical-align: middle;\n",
       "    }\n",
       "\n",
       "    .dataframe tbody tr th {\n",
       "        vertical-align: top;\n",
       "    }\n",
       "\n",
       "    .dataframe thead th {\n",
       "        text-align: right;\n",
       "    }\n",
       "</style>\n",
       "<table border=\"1\" class=\"dataframe\">\n",
       "  <thead>\n",
       "    <tr style=\"text-align: right;\">\n",
       "      <th></th>\n",
       "      <th>cluster_step0</th>\n",
       "      <th>cluster_step1</th>\n",
       "      <th>cluster_step2</th>\n",
       "      <th>cluster_step3</th>\n",
       "      <th>cluster_step4</th>\n",
       "      <th>cluster_step5</th>\n",
       "      <th>cluster_step6</th>\n",
       "      <th>cluster_step7</th>\n",
       "      <th>cluster_step8</th>\n",
       "      <th>cluster_step9</th>\n",
       "      <th>...</th>\n",
       "      <th>cluster_step286</th>\n",
       "      <th>cluster_step287</th>\n",
       "      <th>cluster_step288</th>\n",
       "      <th>cluster_step289</th>\n",
       "      <th>cluster_step290</th>\n",
       "      <th>cluster_step291</th>\n",
       "      <th>cluster_step292</th>\n",
       "      <th>cluster_step293</th>\n",
       "      <th>cluster_step294</th>\n",
       "      <th>cluster_step295</th>\n",
       "    </tr>\n",
       "    <tr>\n",
       "      <th>date</th>\n",
       "      <th></th>\n",
       "      <th></th>\n",
       "      <th></th>\n",
       "      <th></th>\n",
       "      <th></th>\n",
       "      <th></th>\n",
       "      <th></th>\n",
       "      <th></th>\n",
       "      <th></th>\n",
       "      <th></th>\n",
       "      <th></th>\n",
       "      <th></th>\n",
       "      <th></th>\n",
       "      <th></th>\n",
       "      <th></th>\n",
       "      <th></th>\n",
       "      <th></th>\n",
       "      <th></th>\n",
       "      <th></th>\n",
       "      <th></th>\n",
       "      <th></th>\n",
       "    </tr>\n",
       "  </thead>\n",
       "  <tbody>\n",
       "    <tr>\n",
       "      <th>1993-02-01</th>\n",
       "      <td>5.0</td>\n",
       "      <td>5.0</td>\n",
       "      <td>1.0</td>\n",
       "      <td>5.0</td>\n",
       "      <td>5.0</td>\n",
       "      <td>5.0</td>\n",
       "      <td>5.0</td>\n",
       "      <td>5.0</td>\n",
       "      <td>5.0</td>\n",
       "      <td>5.0</td>\n",
       "      <td>...</td>\n",
       "      <td>3.0</td>\n",
       "      <td>3.0</td>\n",
       "      <td>3.0</td>\n",
       "      <td>3.0</td>\n",
       "      <td>3.0</td>\n",
       "      <td>3.0</td>\n",
       "      <td>3.0</td>\n",
       "      <td>3.0</td>\n",
       "      <td>3.0</td>\n",
       "      <td>3</td>\n",
       "    </tr>\n",
       "    <tr>\n",
       "      <th>1993-03-01</th>\n",
       "      <td>3.0</td>\n",
       "      <td>3.0</td>\n",
       "      <td>3.0</td>\n",
       "      <td>3.0</td>\n",
       "      <td>3.0</td>\n",
       "      <td>3.0</td>\n",
       "      <td>3.0</td>\n",
       "      <td>3.0</td>\n",
       "      <td>3.0</td>\n",
       "      <td>3.0</td>\n",
       "      <td>...</td>\n",
       "      <td>3.0</td>\n",
       "      <td>3.0</td>\n",
       "      <td>3.0</td>\n",
       "      <td>3.0</td>\n",
       "      <td>3.0</td>\n",
       "      <td>3.0</td>\n",
       "      <td>3.0</td>\n",
       "      <td>3.0</td>\n",
       "      <td>3.0</td>\n",
       "      <td>3</td>\n",
       "    </tr>\n",
       "    <tr>\n",
       "      <th>1993-04-01</th>\n",
       "      <td>5.0</td>\n",
       "      <td>5.0</td>\n",
       "      <td>5.0</td>\n",
       "      <td>5.0</td>\n",
       "      <td>5.0</td>\n",
       "      <td>5.0</td>\n",
       "      <td>5.0</td>\n",
       "      <td>5.0</td>\n",
       "      <td>5.0</td>\n",
       "      <td>5.0</td>\n",
       "      <td>...</td>\n",
       "      <td>3.0</td>\n",
       "      <td>3.0</td>\n",
       "      <td>3.0</td>\n",
       "      <td>3.0</td>\n",
       "      <td>3.0</td>\n",
       "      <td>3.0</td>\n",
       "      <td>3.0</td>\n",
       "      <td>3.0</td>\n",
       "      <td>3.0</td>\n",
       "      <td>3</td>\n",
       "    </tr>\n",
       "    <tr>\n",
       "      <th>1993-05-01</th>\n",
       "      <td>5.0</td>\n",
       "      <td>5.0</td>\n",
       "      <td>5.0</td>\n",
       "      <td>5.0</td>\n",
       "      <td>5.0</td>\n",
       "      <td>5.0</td>\n",
       "      <td>5.0</td>\n",
       "      <td>5.0</td>\n",
       "      <td>5.0</td>\n",
       "      <td>5.0</td>\n",
       "      <td>...</td>\n",
       "      <td>3.0</td>\n",
       "      <td>3.0</td>\n",
       "      <td>3.0</td>\n",
       "      <td>3.0</td>\n",
       "      <td>3.0</td>\n",
       "      <td>3.0</td>\n",
       "      <td>3.0</td>\n",
       "      <td>3.0</td>\n",
       "      <td>3.0</td>\n",
       "      <td>3</td>\n",
       "    </tr>\n",
       "    <tr>\n",
       "      <th>1993-06-01</th>\n",
       "      <td>5.0</td>\n",
       "      <td>5.0</td>\n",
       "      <td>5.0</td>\n",
       "      <td>5.0</td>\n",
       "      <td>5.0</td>\n",
       "      <td>5.0</td>\n",
       "      <td>5.0</td>\n",
       "      <td>5.0</td>\n",
       "      <td>5.0</td>\n",
       "      <td>5.0</td>\n",
       "      <td>...</td>\n",
       "      <td>3.0</td>\n",
       "      <td>3.0</td>\n",
       "      <td>3.0</td>\n",
       "      <td>3.0</td>\n",
       "      <td>3.0</td>\n",
       "      <td>3.0</td>\n",
       "      <td>3.0</td>\n",
       "      <td>3.0</td>\n",
       "      <td>3.0</td>\n",
       "      <td>3</td>\n",
       "    </tr>\n",
       "  </tbody>\n",
       "</table>\n",
       "<p>5 rows × 296 columns</p>\n",
       "</div>"
      ],
      "text/plain": [
       "            cluster_step0  cluster_step1  cluster_step2  cluster_step3  \\\n",
       "date                                                                     \n",
       "1993-02-01            5.0            5.0            1.0            5.0   \n",
       "1993-03-01            3.0            3.0            3.0            3.0   \n",
       "1993-04-01            5.0            5.0            5.0            5.0   \n",
       "1993-05-01            5.0            5.0            5.0            5.0   \n",
       "1993-06-01            5.0            5.0            5.0            5.0   \n",
       "\n",
       "            cluster_step4  cluster_step5  cluster_step6  cluster_step7  \\\n",
       "date                                                                     \n",
       "1993-02-01            5.0            5.0            5.0            5.0   \n",
       "1993-03-01            3.0            3.0            3.0            3.0   \n",
       "1993-04-01            5.0            5.0            5.0            5.0   \n",
       "1993-05-01            5.0            5.0            5.0            5.0   \n",
       "1993-06-01            5.0            5.0            5.0            5.0   \n",
       "\n",
       "            cluster_step8  cluster_step9  ...  cluster_step286  \\\n",
       "date                                      ...                    \n",
       "1993-02-01            5.0            5.0  ...              3.0   \n",
       "1993-03-01            3.0            3.0  ...              3.0   \n",
       "1993-04-01            5.0            5.0  ...              3.0   \n",
       "1993-05-01            5.0            5.0  ...              3.0   \n",
       "1993-06-01            5.0            5.0  ...              3.0   \n",
       "\n",
       "            cluster_step287  cluster_step288  cluster_step289  \\\n",
       "date                                                            \n",
       "1993-02-01              3.0              3.0              3.0   \n",
       "1993-03-01              3.0              3.0              3.0   \n",
       "1993-04-01              3.0              3.0              3.0   \n",
       "1993-05-01              3.0              3.0              3.0   \n",
       "1993-06-01              3.0              3.0              3.0   \n",
       "\n",
       "            cluster_step290  cluster_step291  cluster_step292  \\\n",
       "date                                                            \n",
       "1993-02-01              3.0              3.0              3.0   \n",
       "1993-03-01              3.0              3.0              3.0   \n",
       "1993-04-01              3.0              3.0              3.0   \n",
       "1993-05-01              3.0              3.0              3.0   \n",
       "1993-06-01              3.0              3.0              3.0   \n",
       "\n",
       "            cluster_step293  cluster_step294  cluster_step295  \n",
       "date                                                           \n",
       "1993-02-01              3.0              3.0                3  \n",
       "1993-03-01              3.0              3.0                3  \n",
       "1993-04-01              3.0              3.0                3  \n",
       "1993-05-01              3.0              3.0                3  \n",
       "1993-06-01              3.0              3.0                3  \n",
       "\n",
       "[5 rows x 296 columns]"
      ]
     },
     "execution_count": 3,
     "metadata": {},
     "output_type": "execute_result"
    }
   ],
   "source": [
    "memory.head()"
   ]
  },
  {
   "cell_type": "code",
   "execution_count": 4,
   "metadata": {},
   "outputs": [
    {
     "name": "stderr",
     "output_type": "stream",
     "text": [
      "No artists with labels found to put in legend.  Note that artists whose label start with an underscore are ignored when legend() is called with no argument.\n"
     ]
    },
    {
     "data": {
      "text/plain": [
       "<matplotlib.legend.Legend at 0x7fb59bdf0df0>"
      ]
     },
     "execution_count": 4,
     "metadata": {},
     "output_type": "execute_result"
    },
    {
     "data": {
      "image/png": "[encoded data removed]",
      "text/plain": [
       "<Figure size 2000x1000 with 1 Axes>"
      ]
     },
     "metadata": {},
     "output_type": "display_data"
    }
   ],
   "source": [
    "day_memory = pd.DataFrame(memory.iloc[0, :])\n",
    "day_memory.index = [int(i.split('_')[-1].replace('step', '')) for i in day_memory.index]\n",
    "\n",
    "plt.figure(figsize=(20, 10))\n",
    "plt.plot(day_memory.index, day_memory.values, marker=\"o\", linestyle=\"\")\n",
    "plt.xlabel(\"Estimation Step\")\n",
    "plt.ylabel(\"Cluster\")\n",
    "\n",
    "# Convert the index to integers and set the locations of the xticks\n",
    "plt.xticks(np.arange(min(day_memory.index), max(day_memory.index)+1, 10))\n",
    "\n",
    "# Set the locations of the yticks\n",
    "plt.yticks(np.arange(min(day_memory.values), max(day_memory.values)+1, 10))\n",
    "\n",
    "plt.grid(True)\n",
    "plt.legend()"
   ]
  },
  {
   "cell_type": "markdown",
   "metadata": {},
   "source": [
    "## 2) Plot regimes over time"
   ]
  },
  {
   "cell_type": "code",
   "execution_count": 5,
   "metadata": {},
   "outputs": [
    {
     "name": "stderr",
     "output_type": "stream",
     "text": [
      "No artists with labels found to put in legend.  Note that artists whose label start with an underscore are ignored when legend() is called with no argument.\n"
     ]
    },
    {
     "data": {
      "text/plain": [
       "<matplotlib.legend.Legend at 0x7fb59bece410>"
      ]
     },
     "execution_count": 5,
     "metadata": {},
     "output_type": "execute_result"
    },
    {
     "data": {
      "text/plain": [
       "<Figure size 640x480 with 0 Axes>"
      ]
     },
     "metadata": {},
     "output_type": "display_data"
    },
    {
     "data": {
      "image/png": "[encoded data removed]",
      "text/plain": [
       "<Figure size 2000x1000 with 1 Axes>"
      ]
     },
     "metadata": {},
     "output_type": "display_data"
    }
   ],
   "source": [
    "final_clusters = memory['cluster_step295']\n",
    "\n",
    "plt.clf()\n",
    "plt.figure(figsize=(20, 10))\n",
    "plt.plot(final_clusters.index, final_clusters.values, marker=\"o\", linestyle=\"\")\n",
    "ax = plt.gca()\n",
    "ax.xaxis.set_minor_locator(mdates.YearLocator())\n",
    "plt.xlabel(\"date\")\n",
    "plt.ylabel(\"Regimes\")\n",
    "plt.grid(which=\"both\")\n",
    "plt.legend()"
   ]
  },
  {
   "cell_type": "markdown",
   "metadata": {},
   "source": [
    "## 3) Economic and financial statistics by regime"
   ]
  },
  {
   "cell_type": "code",
   "execution_count": 6,
   "metadata": {},
   "outputs": [],
   "source": [
    "raw_data = pd.read_csv('data/inputs/fredmd_raw.csv')\n",
    "raw_data[\"date\"] = pd.to_datetime(raw_data[\"date\"])\n",
    "raw_data = raw_data.set_index(\"date\")\n",
    "\n",
    "raw_data = raw_data[[\"RPI\", \"UNRATE\", \"UMCSENTx\", \"CPIAUCSL\"]]\n",
    "raw_data[\"RPI\"] = raw_data[\"RPI\"].pct_change(12) * 100\n",
    "raw_data[\"UMCSENTx\"] = raw_data[\"UMCSENTx\"].pct_change(12) * 100\n",
    "raw_data[\"CPIAUCSL\"] = raw_data[\"CPIAUCSL\"].pct_change(12) * 100\n",
    "\n",
    "raw_data = raw_data.dropna()\n",
    "\n",
    "major_cols = {\n",
    "    'RPI': 'Real Personal Income',\n",
    "    'UNRATE': 'Unemployment Rate',\n",
    "    'UMCSENTx': 'Consumer Sentiment',\n",
    "    'CPIAUCSL': 'CPI Headline'\n",
    "}\n",
    "\n",
    "final_clusters = memory['cluster_step295']\n",
    "econ_cluster_summary = []\n",
    "for i in range(6):\n",
    "    cur_cluster = final_clusters[final_clusters == i]\n",
    "    fred_data = raw_data.loc[cur_cluster.index]\n",
    "    \n",
    "    # get average of each column\n",
    "    cur_dict = {}\n",
    "    for col, tag in major_cols.items():\n",
    "        cur_dict[tag] = fred_data[col].mean()\n",
    "    econ_cluster_summary.append(cur_dict)\n",
    "econ_cluster_summary_df = pd.DataFrame(econ_cluster_summary).T"
   ]
  },
  {
   "cell_type": "code",
   "execution_count": 7,
   "metadata": {},
   "outputs": [],
   "source": [
    "financial_data = pd.read_csv('data/inputs/financial_data.csv')\n",
    "financial_data[\"date\"] = pd.to_datetime(financial_data[\"date\"])\n",
    "financial_data = financial_data.set_index(\"date\")\n",
    "\n",
    "financial_data = financial_data.resample(\"D\").last().ffill().pct_change(30) * 100\n",
    "\n",
    "final_clusters = memory['cluster_step295']\n",
    "financial_cluster_summary = []\n",
    "for i in range(6):\n",
    "    cur_cluster = final_clusters[final_clusters == i]\n",
    "    tmp_financial_data = financial_data.loc[cur_cluster.index]\n",
    "    \n",
    "    # get average of each column\n",
    "    cur_dict = {}\n",
    "    for col in tmp_financial_data.columns:\n",
    "        cur_dict[col] = tmp_financial_data[col].dropna().mean()\n",
    "    financial_cluster_summary.append(cur_dict)\n",
    "financial_cluster_summary_df = pd.DataFrame(financial_cluster_summary).T"
   ]
  },
  {
   "cell_type": "code",
   "execution_count": 8,
   "metadata": {},
   "outputs": [
    {
     "data": {
      "text/html": [
       "<div>\n",
       "<style scoped>\n",
       "    .dataframe tbody tr th:only-of-type {\n",
       "        vertical-align: middle;\n",
       "    }\n",
       "\n",
       "    .dataframe tbody tr th {\n",
       "        vertical-align: top;\n",
       "    }\n",
       "\n",
       "    .dataframe thead th {\n",
       "        text-align: right;\n",
       "    }\n",
       "</style>\n",
       "<table border=\"1\" class=\"dataframe\">\n",
       "  <thead>\n",
       "    <tr style=\"text-align: right;\">\n",
       "      <th></th>\n",
       "      <th>0</th>\n",
       "      <th>1</th>\n",
       "      <th>2</th>\n",
       "      <th>3</th>\n",
       "      <th>4</th>\n",
       "      <th>5</th>\n",
       "    </tr>\n",
       "  </thead>\n",
       "  <tbody>\n",
       "    <tr>\n",
       "      <th>Real Personal Income</th>\n",
       "      <td>-0.523673</td>\n",
       "      <td>3.129510</td>\n",
       "      <td>1.897160</td>\n",
       "      <td>2.976519</td>\n",
       "      <td>3.351087</td>\n",
       "      <td>3.431278</td>\n",
       "    </tr>\n",
       "    <tr>\n",
       "      <th>Unemployment Rate</th>\n",
       "      <td>6.027586</td>\n",
       "      <td>4.980556</td>\n",
       "      <td>5.244444</td>\n",
       "      <td>5.678378</td>\n",
       "      <td>5.722059</td>\n",
       "      <td>5.704494</td>\n",
       "    </tr>\n",
       "    <tr>\n",
       "      <th>Consumer Sentiment</th>\n",
       "      <td>-8.521828</td>\n",
       "      <td>-1.970674</td>\n",
       "      <td>-1.913013</td>\n",
       "      <td>4.382673</td>\n",
       "      <td>3.712033</td>\n",
       "      <td>2.548300</td>\n",
       "    </tr>\n",
       "    <tr>\n",
       "      <th>CPI Headline</th>\n",
       "      <td>2.806571</td>\n",
       "      <td>2.740867</td>\n",
       "      <td>2.945794</td>\n",
       "      <td>2.348206</td>\n",
       "      <td>2.266288</td>\n",
       "      <td>2.378057</td>\n",
       "    </tr>\n",
       "  </tbody>\n",
       "</table>\n",
       "</div>"
      ],
      "text/plain": [
       "                             0         1         2         3         4  \\\n",
       "Real Personal Income -0.523673  3.129510  1.897160  2.976519  3.351087   \n",
       "Unemployment Rate     6.027586  4.980556  5.244444  5.678378  5.722059   \n",
       "Consumer Sentiment   -8.521828 -1.970674 -1.913013  4.382673  3.712033   \n",
       "CPI Headline          2.806571  2.740867  2.945794  2.348206  2.266288   \n",
       "\n",
       "                             5  \n",
       "Real Personal Income  3.431278  \n",
       "Unemployment Rate     5.704494  \n",
       "Consumer Sentiment    2.548300  \n",
       "CPI Headline          2.378057  "
      ]
     },
     "execution_count": 8,
     "metadata": {},
     "output_type": "execute_result"
    }
   ],
   "source": [
    "econ_cluster_summary_df"
   ]
  },
  {
   "cell_type": "code",
   "execution_count": 9,
   "metadata": {},
   "outputs": [
    {
     "data": {
      "text/html": [
       "<div>\n",
       "<style scoped>\n",
       "    .dataframe tbody tr th:only-of-type {\n",
       "        vertical-align: middle;\n",
       "    }\n",
       "\n",
       "    .dataframe tbody tr th {\n",
       "        vertical-align: top;\n",
       "    }\n",
       "\n",
       "    .dataframe thead th {\n",
       "        text-align: right;\n",
       "    }\n",
       "</style>\n",
       "<table border=\"1\" class=\"dataframe\">\n",
       "  <thead>\n",
       "    <tr style=\"text-align: right;\">\n",
       "      <th></th>\n",
       "      <th>0</th>\n",
       "      <th>1</th>\n",
       "      <th>2</th>\n",
       "      <th>3</th>\n",
       "      <th>4</th>\n",
       "      <th>5</th>\n",
       "    </tr>\n",
       "  </thead>\n",
       "  <tbody>\n",
       "    <tr>\n",
       "      <th>Gold Spot</th>\n",
       "      <td>1.054436</td>\n",
       "      <td>1.378276</td>\n",
       "      <td>1.336985</td>\n",
       "      <td>0.227914</td>\n",
       "      <td>0.237424</td>\n",
       "      <td>0.408658</td>\n",
       "    </tr>\n",
       "    <tr>\n",
       "      <th>UST2Y</th>\n",
       "      <td>3.645059</td>\n",
       "      <td>-4.474950</td>\n",
       "      <td>-3.262203</td>\n",
       "      <td>4.057226</td>\n",
       "      <td>2.546651</td>\n",
       "      <td>1.376669</td>\n",
       "    </tr>\n",
       "    <tr>\n",
       "      <th>UST5Y</th>\n",
       "      <td>1.365944</td>\n",
       "      <td>-3.646667</td>\n",
       "      <td>-1.172133</td>\n",
       "      <td>3.403937</td>\n",
       "      <td>0.884233</td>\n",
       "      <td>-0.252965</td>\n",
       "    </tr>\n",
       "    <tr>\n",
       "      <th>UST10Y</th>\n",
       "      <td>0.191666</td>\n",
       "      <td>-2.520169</td>\n",
       "      <td>-0.711691</td>\n",
       "      <td>2.315764</td>\n",
       "      <td>0.692730</td>\n",
       "      <td>-1.257871</td>\n",
       "    </tr>\n",
       "    <tr>\n",
       "      <th>EEM</th>\n",
       "      <td>0.128248</td>\n",
       "      <td>1.202113</td>\n",
       "      <td>1.185276</td>\n",
       "      <td>1.468743</td>\n",
       "      <td>0.387098</td>\n",
       "      <td>0.566292</td>\n",
       "    </tr>\n",
       "    <tr>\n",
       "      <th>Crude Oil Cushing Spot</th>\n",
       "      <td>1.488986</td>\n",
       "      <td>0.529112</td>\n",
       "      <td>-0.742661</td>\n",
       "      <td>2.037613</td>\n",
       "      <td>0.192628</td>\n",
       "      <td>0.152155</td>\n",
       "    </tr>\n",
       "    <tr>\n",
       "      <th>VIX</th>\n",
       "      <td>3.440624</td>\n",
       "      <td>6.660552</td>\n",
       "      <td>-0.226642</td>\n",
       "      <td>-1.629847</td>\n",
       "      <td>2.793813</td>\n",
       "      <td>4.803009</td>\n",
       "    </tr>\n",
       "    <tr>\n",
       "      <th>SPX</th>\n",
       "      <td>-0.310224</td>\n",
       "      <td>0.675295</td>\n",
       "      <td>0.832091</td>\n",
       "      <td>1.832040</td>\n",
       "      <td>0.598824</td>\n",
       "      <td>1.015703</td>\n",
       "    </tr>\n",
       "    <tr>\n",
       "      <th>SPX Banks</th>\n",
       "      <td>-0.566091</td>\n",
       "      <td>0.130447</td>\n",
       "      <td>2.429263</td>\n",
       "      <td>1.838704</td>\n",
       "      <td>0.634782</td>\n",
       "      <td>0.677667</td>\n",
       "    </tr>\n",
       "    <tr>\n",
       "      <th>SPX Real State</th>\n",
       "      <td>0.376262</td>\n",
       "      <td>-0.111502</td>\n",
       "      <td>0.760187</td>\n",
       "      <td>0.506929</td>\n",
       "      <td>0.748249</td>\n",
       "      <td>1.279899</td>\n",
       "    </tr>\n",
       "    <tr>\n",
       "      <th>SPX Materials</th>\n",
       "      <td>0.734025</td>\n",
       "      <td>0.579855</td>\n",
       "      <td>0.928769</td>\n",
       "      <td>1.794868</td>\n",
       "      <td>0.833246</td>\n",
       "      <td>0.107218</td>\n",
       "    </tr>\n",
       "    <tr>\n",
       "      <th>SPX Energy</th>\n",
       "      <td>0.742423</td>\n",
       "      <td>1.315302</td>\n",
       "      <td>-0.703197</td>\n",
       "      <td>1.738383</td>\n",
       "      <td>0.541133</td>\n",
       "      <td>0.937922</td>\n",
       "    </tr>\n",
       "    <tr>\n",
       "      <th>SPX Consumer</th>\n",
       "      <td>-0.012457</td>\n",
       "      <td>-0.026191</td>\n",
       "      <td>2.016518</td>\n",
       "      <td>1.643301</td>\n",
       "      <td>0.617828</td>\n",
       "      <td>1.251714</td>\n",
       "    </tr>\n",
       "    <tr>\n",
       "      <th>SPX Utilities</th>\n",
       "      <td>-0.865648</td>\n",
       "      <td>2.760787</td>\n",
       "      <td>0.209895</td>\n",
       "      <td>1.296297</td>\n",
       "      <td>0.309847</td>\n",
       "      <td>1.162816</td>\n",
       "    </tr>\n",
       "    <tr>\n",
       "      <th>SPX Staples</th>\n",
       "      <td>0.460380</td>\n",
       "      <td>1.148156</td>\n",
       "      <td>0.797264</td>\n",
       "      <td>1.683188</td>\n",
       "      <td>1.048115</td>\n",
       "      <td>0.675086</td>\n",
       "    </tr>\n",
       "  </tbody>\n",
       "</table>\n",
       "</div>"
      ],
      "text/plain": [
       "                               0         1         2         3         4  \\\n",
       "Gold Spot               1.054436  1.378276  1.336985  0.227914  0.237424   \n",
       "UST2Y                   3.645059 -4.474950 -3.262203  4.057226  2.546651   \n",
       "UST5Y                   1.365944 -3.646667 -1.172133  3.403937  0.884233   \n",
       "UST10Y                  0.191666 -2.520169 -0.711691  2.315764  0.692730   \n",
       "EEM                     0.128248  1.202113  1.185276  1.468743  0.387098   \n",
       "Crude Oil Cushing Spot  1.488986  0.529112 -0.742661  2.037613  0.192628   \n",
       "VIX                     3.440624  6.660552 -0.226642 -1.629847  2.793813   \n",
       "SPX                    -0.310224  0.675295  0.832091  1.832040  0.598824   \n",
       "SPX Banks              -0.566091  0.130447  2.429263  1.838704  0.634782   \n",
       "SPX Real State          0.376262 -0.111502  0.760187  0.506929  0.748249   \n",
       "SPX Materials           0.734025  0.579855  0.928769  1.794868  0.833246   \n",
       "SPX Energy              0.742423  1.315302 -0.703197  1.738383  0.541133   \n",
       "SPX Consumer           -0.012457 -0.026191  2.016518  1.643301  0.617828   \n",
       "SPX Utilities          -0.865648  2.760787  0.209895  1.296297  0.309847   \n",
       "SPX Staples             0.460380  1.148156  0.797264  1.683188  1.048115   \n",
       "\n",
       "                               5  \n",
       "Gold Spot               0.408658  \n",
       "UST2Y                   1.376669  \n",
       "UST5Y                  -0.252965  \n",
       "UST10Y                 -1.257871  \n",
       "EEM                     0.566292  \n",
       "Crude Oil Cushing Spot  0.152155  \n",
       "VIX                     4.803009  \n",
       "SPX                     1.015703  \n",
       "SPX Banks               0.677667  \n",
       "SPX Real State          1.279899  \n",
       "SPX Materials           0.107218  \n",
       "SPX Energy              0.937922  \n",
       "SPX Consumer            1.251714  \n",
       "SPX Utilities           1.162816  \n",
       "SPX Staples             0.675086  "
      ]
     },
     "execution_count": 9,
     "metadata": {},
     "output_type": "execute_result"
    }
   ],
   "source": [
    "financial_cluster_summary_df"
   ]
  },
  {
   "cell_type": "markdown",
   "metadata": {},
   "source": [
    "## 4) Transition probabilities"
   ]
  },
  {
   "cell_type": "code",
   "execution_count": 10,
   "metadata": {},
   "outputs": [],
   "source": [
    "transition_test = compute_transition_matrix(memory)"
   ]
  },
  {
   "cell_type": "code",
   "execution_count": 11,
   "metadata": {},
   "outputs": [
    {
     "name": "stdout",
     "output_type": "stream",
     "text": [
      "[[0.89655172 0.         0.06896552 0.01724138 0.01724138 0.        ]\n",
      " [0.02857143 0.31428571 0.14285714 0.4        0.02857143 0.08571429]\n",
      " [0.22222222 0.27777778 0.22222222 0.22222222 0.         0.05555556]\n",
      " [0.01351351 0.14864865 0.05405405 0.40540541 0.08108108 0.2972973 ]\n",
      " [0.         0.         0.         0.10294118 0.64705882 0.25      ]\n",
      " [0.         0.1011236  0.01123596 0.19101124 0.17977528 0.51685393]]\n"
     ]
    }
   ],
   "source": [
    "print(transition_test[-1])"
   ]
  },
  {
   "cell_type": "code",
   "execution_count": 24,
   "metadata": {},
   "outputs": [
    {
     "data": {
      "image/png": "[encoded data removed]",
      "text/plain": [
       "<Figure size 640x480 with 2 Axes>"
      ]
     },
     "metadata": {},
     "output_type": "display_data"
    }
   ],
   "source": [
    "sns.heatmap(transition_test[0], annot=True, cmap=\"YlGnBu\", xticklabels=range(6), yticklabels=range(6))\n",
    "plt.title(\"Transition Probabilities for the First Window\")\n",
    "# save the plot\n",
    "plt.savefig(os.path.join(outputs_path, \"results\", 'transition_probabilities_first.png'))"
   ]
  },
  {
   "cell_type": "code",
   "execution_count": 25,
   "metadata": {},
   "outputs": [
    {
     "data": {
      "image/png": "[encoded data removed]",
      "text/plain": [
       "<Figure size 640x480 with 2 Axes>"
      ]
     },
     "metadata": {},
     "output_type": "display_data"
    }
   ],
   "source": [
    "sns.heatmap(transition_test[0], annot=True, cmap=\"YlGnBu\", xticklabels=range(6), yticklabels=range(6))\n",
    "plt.title(\"Transition Probabilities for the Last Window\")\n",
    "# save the plot\n",
    "plt.savefig(os.path.join(outputs_path, \"results\", 'transition_probabilities_last.png'))"
   ]
  },
  {
   "cell_type": "code",
   "execution_count": 61,
   "metadata": {},
   "outputs": [
    {
     "data": {
      "text/plain": [
       "<Figure size 640x480 with 0 Axes>"
      ]
     },
     "metadata": {},
     "output_type": "display_data"
    },
    {
     "data": {
      "image/png": "[encoded data removed]",
      "text/plain": [
       "<Figure size 640x480 with 1 Axes>"
      ]
     },
     "metadata": {},
     "output_type": "display_data"
    }
   ],
   "source": [
    "import matplotlib.pyplot as plt\n",
    "import matplotlib.animation as animation\n",
    "\n",
    "plt.clf()\n",
    "fig, ax = plt.subplots()\n",
    "im = ax.imshow(transition_test[0], cmap='hot', interpolation='nearest')\n",
    "def update(frame):\n",
    "    im.set_data(transition_test[frame])\n",
    "    ax.set_title(f'Heat Map of Transition Matrix at Step {frame}')\n",
    "    ax.set_xlabel('To Cluster')\n",
    "    ax.set_ylabel('From Cluster')\n",
    "    return im\n",
    "ani = animation.FuncAnimation(fig=fig, func=update, frames=len(transition_test), interval=1)\n",
    "ani.save(filename=\"cluster_evolution.gif\", writer=\"pillow\")"
   ]
  },
  {
   "cell_type": "code",
   "execution_count": null,
   "metadata": {},
   "outputs": [],
   "source": []
  }
 ],
 "metadata": {
  "kernelspec": {
   "display_name": "mlf",
   "language": "python",
   "name": "python3"
  },
  "language_info": {
   "codemirror_mode": {
    "name": "ipython",
    "version": 3
   },
   "file_extension": ".py",
   "mimetype": "text/x-python",
   "name": "python",
   "nbconvert_exporter": "python",
   "pygments_lexer": "ipython3",
   "version": "3.10.0"
  }
 },
 "nbformat": 4,
 "nbformat_minor": 2
}
