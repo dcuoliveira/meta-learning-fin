{
 "cells": [
  {
   "cell_type": "code",
   "execution_count": 3,
   "metadata": {},
   "outputs": [],
   "source": [
    "import numpy as np\n",
    "import torch\n",
    "import pandas as pd"
   ]
  },
  {
   "cell_type": "code",
   "execution_count": 19,
   "metadata": {},
   "outputs": [],
   "source": [
    "def black_litterman(prior_mean, prior_cov, P, Q, Omega, tau=0.1):\n",
    "   prior_mean = torch.tensor(prior_mean, dtype=torch.float64)\n",
    "   prior_cov = torch.tensor(prior_cov, dtype=torch.float64)\n",
    "   P = torch.tensor(P, dtype=torch.float64) \n",
    "   Q = torch.tensor(Q, dtype=torch.float64)\n",
    "   Omega = torch.tensor(Omega, dtype=torch.float64)\n",
    "   \n",
    "   tau_sigma_inv = torch.linalg.inv(tau * prior_cov)\n",
    "   omega_inv = torch.linalg.inv(Omega)\n",
    "   \n",
    "   M = torch.linalg.inv(tau_sigma_inv + P.T @ omega_inv @ P)\n",
    "   posterior_mean = M @ (tau_sigma_inv @ prior_mean + P.T @ omega_inv @ Q)\n",
    "   \n",
    "   # Fixed views display\n",
    "   views_array = np.full(len(prior_mean), np.nan)\n",
    "   for i in range(P.shape[0]):\n",
    "       asset_idx = np.where(P[i] == 1)[0][0]\n",
    "       views_array[asset_idx] = Q[i]\n",
    "   \n",
    "   comparison = pd.DataFrame({\n",
    "       'Prior Mean': prior_mean.numpy(),\n",
    "       'Views': views_array,\n",
    "       'Posterior Mean': posterior_mean.numpy()\n",
    "   })\n",
    "   \n",
    "   return comparison"
   ]
  },
  {
   "cell_type": "code",
   "execution_count": 27,
   "metadata": {},
   "outputs": [
    {
     "name": "stdout",
     "output_type": "stream",
     "text": [
      "Prior Covariance:\n",
      "[[2. 0. 0.]\n",
      " [0. 2. 0.]\n",
      " [0. 0. 2.]]\n",
      "\n",
      "View Matrix P:\n",
      "[[1. 0. 0.]\n",
      " [0. 1. 0.]]\n",
      "\n",
      "View Returns Q:\n",
      "[0.15 0.25]\n",
      "\n",
      "View Uncertainty Omega:\n",
      "[[0.05 0.  ]\n",
      " [0.   0.05]]\n",
      "\n",
      "Results:\n",
      "   Prior Mean  Views  Posterior Mean\n",
      "0         0.1   0.15            0.14\n",
      "1         0.2   0.25            0.24\n",
      "2         0.3    NaN            0.30\n"
     ]
    }
   ],
   "source": [
    "Omega_shock = 1\n",
    "Sigma_shock = 10\n",
    "\n",
    "n_assets = 3\n",
    "prior_mean = np.array([0.1, 0.2, 0.3])\n",
    "prior_cov = np.eye(n_assets) * 0.2 * Sigma_shock\n",
    "\n",
    "# Two absolute views on first and second assets\n",
    "P = np.array([\n",
    "   [1.0, 0.0, 0.0],    # View on first asset return\n",
    "   [0.0, 1.0, 0.0]     # View on second asset return \n",
    "])\n",
    "Q = np.array([0.15, 0.25])  # Expect 15% on first, 25% on second\n",
    "Omega = np.eye(2) * 0.05 * Omega_shock    # Equal uncertainty for both views\n",
    "\n",
    "result = black_litterman(prior_mean, prior_cov, P, Q, Omega)\n",
    "\n",
    "print(\"Prior Covariance:\")\n",
    "print(prior_cov)\n",
    "print(\"\\nView Matrix P:\")\n",
    "print(P)\n",
    "print(\"\\nView Returns Q:\")\n",
    "print(Q)\n",
    "print(\"\\nView Uncertainty Omega:\")\n",
    "print(Omega)\n",
    "print(\"\\nResults:\")\n",
    "print(result)"
   ]
  },
  {
   "cell_type": "code",
   "execution_count": null,
   "metadata": {},
   "outputs": [],
   "source": []
  }
 ],
 "metadata": {
  "kernelspec": {
   "display_name": "mlf",
   "language": "python",
   "name": "python3"
  },
  "language_info": {
   "codemirror_mode": {
    "name": "ipython",
    "version": 3
   },
   "file_extension": ".py",
   "mimetype": "text/x-python",
   "name": "python",
   "nbconvert_exporter": "python",
   "pygments_lexer": "ipython3",
   "version": "3.10.0"
  }
 },
 "nbformat": 4,
 "nbformat_minor": 2
}
